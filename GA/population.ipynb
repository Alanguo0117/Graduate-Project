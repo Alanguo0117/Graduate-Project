{
 "cells": [
  {
   "cell_type": "code",
   "execution_count": 123,
   "metadata": {},
   "outputs": [],
   "source": [
    "import numpy\n",
    "\n",
    "def cal_pop_fitness(equation_inputs, pop):\n",
    "\n",
    "    #calculating the fitness value of each solution in the current population.\n",
    "    #the fitness function calculates the sum of products of weights and inputs.\n",
    "    \n",
    "    fitness = numpy.sum(pop*equation_inputs, axis = 1)\n",
    "    return fitness"
   ]
  },
  {
   "cell_type": "code",
   "execution_count": 124,
   "metadata": {},
   "outputs": [],
   "source": [
    "def select_mating_pool(pop, fitness, num_parents):\n",
    "    #select the best individuals as parents \n",
    "    parents = numpy.empty((num_parents, pop.shape[1]))\n",
    "    \n",
    "    for parent_num in range(num_parents):\n",
    "        max_fitness_idx = numpy.where(fitness == numpy.max(fitness))\n",
    "        max_fitness_idx = max_fitness_idx[0][0]\n",
    "        parents[parent_num, :] = pop[max_fitness_idx, :]\n",
    "        fitness[max_fitness_idx] = -9999999999\n",
    "    return parents"
   ]
  },
  {
   "cell_type": "code",
   "execution_count": 125,
   "metadata": {},
   "outputs": [],
   "source": [
    "def crossover(parents, offspring_size):\n",
    "    offspring = numpy.empty(offspring_size) #we just take the center of chromosome\n",
    "    crossover_point = numpy.uint8(offspring_size[1]/2)\n",
    "    #print(crossover_point)\n",
    "    for k in range(offspring_size[0]): \n",
    "        #the first parent\n",
    "        parent1_idx = k%parents.shape[0]\n",
    "        #the second parent\n",
    "        parent2_idx = (k+1)%parents.shape[0]\n",
    "        #the new offspring will have the 1st half gene of the 1st parents\n",
    "        offspring[k, 0:crossover_point] = parents[parent1_idx, 0:crossover_point]\n",
    "        #the new offspring will have the 2nd half gene of the 2nd parents\n",
    "        offspring[k, crossover_point:] = parents[parent2_idx, crossover_point:]\n",
    "        \n",
    "    return offspring\n",
    "        "
   ]
  },
  {
   "cell_type": "code",
   "execution_count": 126,
   "metadata": {},
   "outputs": [],
   "source": [
    "def mutation(offspring_crossover):\n",
    "    for idx in range(offspring_crossover.shape[0]):\n",
    "        random_value = numpy.random.uniform(-1.0, 1.0, 1)\n",
    "        offspring_crossover[idx, 4] = offspring_crossover[idx, 4] + random_value\n",
    "        return offspring_crossover\n",
    "    "
   ]
  },
  {
   "cell_type": "code",
   "execution_count": 127,
   "metadata": {},
   "outputs": [],
   "source": [
    "#inputs of the equation\n",
    "equation_inputs = [4,-2,3.5,5,-11,-4.7]\n",
    "#number of weights\n",
    "num_weights = 6"
   ]
  },
  {
   "cell_type": "code",
   "execution_count": 128,
   "metadata": {},
   "outputs": [
    {
     "name": "stdout",
     "output_type": "stream",
     "text": [
      "[[ 1.20204347 -3.59738234  3.15377915  0.29912136  2.70204023  1.35101756]\n",
      " [-1.10800327 -1.70196015  2.41352749 -1.72036083  0.1611162  -0.88799847]\n",
      " [ 1.21724817  0.03490626  1.82208081 -2.15732058 -2.02196398 -0.77983741]\n",
      " [-3.74419222  1.15013563 -3.1873158   1.21376163 -0.27513499 -0.26713443]\n",
      " [-1.61482292  3.71633349 -2.98128662  0.01016106  2.69713175  1.06844275]\n",
      " [-1.81560728  0.02941739 -0.01892405  1.40216256 -3.8444566   0.50839246]\n",
      " [ 2.83217764 -2.14485272 -1.00372071 -1.52656416  3.35880406 -1.97381698]\n",
      " [ 2.11820034  2.20901301  2.43708203  0.47482604 -1.73791569  0.39107425]]\n"
     ]
    }
   ],
   "source": [
    "sol_per_pop = 8\n",
    "\n",
    "#defining the population size \n",
    "pop_size = (sol_per_pop, num_weights)\n",
    "\n",
    "#creating the initial population\n",
    "\n",
    "new_population = numpy.random.uniform(low = -4.0, high = 4.0, size = pop_size)\n",
    "\n",
    "print(new_population)"
   ]
  },
  {
   "cell_type": "code",
   "execution_count": 129,
   "metadata": {},
   "outputs": [],
   "source": [
    "#fitness = cal_pop_fitness(equation_inputs, new_population)\n",
    "#print(\"fitness\", fitness)\n",
    "#parents = select_mating_pool(new_population, fitness, 4)\n",
    "#print(\"parents\", parents)\n",
    "#offspring_crossover = crossover(parents,(4, 6))\n",
    "#print(\"offspring crossover\", offspring_crossover)"
   ]
  },
  {
   "cell_type": "code",
   "execution_count": 130,
   "metadata": {},
   "outputs": [
    {
     "name": "stdout",
     "output_type": "stream",
     "text": [
      "Generation :  0\n",
      "Best result:  54.329644300447775\n",
      "Generation :  1\n",
      "Best result:  59.4949533369726\n",
      "Generation :  2\n",
      "Best result:  70.27355363113897\n",
      "Generation :  3\n",
      "Best result:  70.27355363113897\n",
      "Generation :  4\n",
      "Best result:  70.27355363113897\n",
      "Generation :  5\n",
      "Best result:  72.66930586509822\n",
      "Generation :  6\n",
      "Best result:  72.66930586509822\n",
      "Generation :  7\n",
      "Best result:  75.40305578463122\n",
      "Generation :  8\n",
      "Best result:  75.88438005788716\n",
      "Generation :  9\n",
      "Best result:  80.86986920738254\n",
      "Best solution :  [[[ 2.11820034  2.20901301  2.43708203  1.40216256 -5.78763077\n",
      "    0.50839246]]]\n",
      "Best solution fitness :  [80.86986921]\n"
     ]
    }
   ],
   "source": [
    "num_generations = 10\n",
    "\n",
    "num_parents_mating = 4\n",
    "\n",
    "\n",
    "for generation in range(num_generations):\n",
    "    print(\"Generation : \", generation)\n",
    "    fitness = cal_pop_fitness(equation_inputs, new_population) #calculating fitness\n",
    "    #print(fitness)\n",
    "    parents = select_mating_pool(new_population, fitness, num_parents_mating)\n",
    "    #print(\"parents\", generation)\n",
    "    #print(parents)\n",
    "    #using crossover to generate next generation\n",
    "    offspring_crossover = crossover(parents,offspring_size=(pop_size[0]-parents.shape[0], num_weights))\n",
    "    #print(\"the\", generation,\"offsprings :\")\n",
    "    #print(offspring_crossover)\n",
    "    \n",
    "    #using mutation to add some variations \n",
    "    offspring_mutation = mutation(offspring_crossover)\n",
    "    #creating new population\n",
    "    new_population[0:parents.shape[0], :] = parents\n",
    "    new_population[parents.shape[0]:, :] = offspring_mutation\n",
    "    #print(new_population)\n",
    "    print(\"Best result: \", numpy.max(numpy.sum(new_population*equation_inputs, axis=1)))\n",
    "fitness = cal_pop_fitness(equation_inputs, new_population)\n",
    "\n",
    "best_match_idx = numpy.where(fitness == numpy.max(fitness))\n",
    "\n",
    "print(\"Best solution : \", new_population[best_match_idx, :])\n",
    "print(\"Best solution fitness : \", fitness[best_match_idx])"
   ]
  },
  {
   "cell_type": "code",
   "execution_count": null,
   "metadata": {},
   "outputs": [],
   "source": []
  },
  {
   "cell_type": "code",
   "execution_count": null,
   "metadata": {},
   "outputs": [],
   "source": []
  }
 ],
 "metadata": {
  "kernelspec": {
   "display_name": "Python 3",
   "language": "python",
   "name": "python3"
  },
  "language_info": {
   "codemirror_mode": {
    "name": "ipython",
    "version": 3
   },
   "file_extension": ".py",
   "mimetype": "text/x-python",
   "name": "python",
   "nbconvert_exporter": "python",
   "pygments_lexer": "ipython3",
   "version": "3.6.4"
  }
 },
 "nbformat": 4,
 "nbformat_minor": 2
}
