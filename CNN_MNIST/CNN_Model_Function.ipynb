{
 "cells": [
  {
   "cell_type": "code",
   "execution_count": 18,
   "metadata": {},
   "outputs": [],
   "source": [
    "import numpy as np\n",
    "import keras\n",
    "import matplotlib.pyplot as plt\n",
    "import tensorflow as tf\n"
   ]
  },
  {
   "cell_type": "code",
   "execution_count": 19,
   "metadata": {},
   "outputs": [],
   "source": [
    "from keras.models import Sequential\n",
    "from keras.layers import Dense, Conv2D, Dropout, Flatten, MaxPooling2D"
   ]
  },
  {
   "cell_type": "code",
   "execution_count": 20,
   "metadata": {},
   "outputs": [],
   "source": [
    "from keras.datasets import mnist\n",
    "(X_train, Y_train), (X_test, Y_test) = mnist.load_data()\n",
    "import matplotlib.pyplot as plt"
   ]
  },
  {
   "cell_type": "code",
   "execution_count": 21,
   "metadata": {},
   "outputs": [
    {
     "name": "stdout",
     "output_type": "stream",
     "text": [
      "before reshaping x_train (60000, 28, 28)\n",
      "before reshaping x_test (10000, 28, 28)\n",
      "x_train: (60000, 28, 28, 1)\n",
      "x_test: (10000, 28, 28, 1)\n",
      "(60000, 10) (10000, 10)\n"
     ]
    }
   ],
   "source": [
    "#Reshape mnist dataset\n",
    "print('before reshaping x_train', X_train.shape)\n",
    "print('before reshaping x_test', X_test.shape)\n",
    "#Then after reshaping:\n",
    "X_train = X_train.reshape(X_train.shape[0], 28, 28, 1)\n",
    "X_test = X_test.reshape(X_test.shape[0], 28, 28, 1)\n",
    "input_shape = (28, 28, 1)\n",
    "print('x_train:', X_train.shape)\n",
    "print('x_test:', X_test.shape)\n",
    "X_train = X_train.astype('float32')\n",
    "X_test = X_test.astype('float32')\n",
    "X_train /= 255\n",
    "X_test /= 255\n",
    "#Encoding Y to binary form\n",
    "num_category = 10\n",
    "Y_train = keras.utils.to_categorical(Y_train, num_category)\n",
    "Y_test = keras.utils.to_categorical(Y_test, num_category)\n",
    "print(Y_train.shape, Y_test.shape)"
   ]
  },
  {
   "cell_type": "code",
   "execution_count": 22,
   "metadata": {},
   "outputs": [],
   "source": [
    "def model(conv1_channel, conv1_ksize, conv2_channel, conv2_ksize, pool_size, drop_rate1, drop_rate2,FC_size, batch_size, epochs):\n",
    "    #The conv_ksize is the dimension of kernel, for example  conv1_ksize = 3, kernel_size = (3,3)\n",
    "    model = Sequential()\n",
    "    #The initial conv layers (can be from 2-4)\n",
    "    model.add(Conv2D(conv1_channel, kernel_size = (conv1_ksize, conv1_ksize), activation = 'relu', input_shape = input_shape))\n",
    "    model.add(Conv2D(conv2_channel, kernel_size = (conv2_ksize, conv2_ksize), activation = 'relu'))\n",
    "    '''\n",
    "    if init_conv == 4:\n",
    "        #model.add(Conv2D(64, kernel_size = (3,3), activation = 'relu'))\n",
    "        #model.add(Conv2D(64, kernel_size = (3,3), activation = 'relu'))\n",
    "    if init_conv == 3:\n",
    "        #model.add(Conv2D(64, kernel_size = (3,3), activation = 'relu'))\n",
    "    if init_conv == 2:\n",
    "    '''\n",
    "    model.add(MaxPooling2D(pool_size = (pool_size, pool_size)))\n",
    "    model.add(Dropout(drop_rate1))\n",
    "    model.add(Flatten())\n",
    "    model.add(Dense(FC_size, activation = 'relu'))\n",
    "    model.add(Dropout(drop_rate2))\n",
    "    model.add(Dense(num_category, activation = 'softmax'))\n",
    "    \n",
    "    #compile the model\n",
    "    model.compile(loss = keras.losses.categorical_crossentropy, optimizer = keras.optimizers.Adadelta(), metrics = ['accuracy'])\n",
    "    model_log = model.fit(X_train, Y_train, batch_size , epochs , verbose=1, validation_data=(X_test, Y_test))\n",
    "    \n",
    "    score = model.evaluate(X_test, Y_test, verbose=0)\n",
    "    return score"
   ]
  },
  {
   "cell_type": "code",
   "execution_count": 23,
   "metadata": {},
   "outputs": [
    {
     "name": "stdout",
     "output_type": "stream",
     "text": [
      "Train on 60000 samples, validate on 10000 samples\n",
      "Epoch 1/5\n",
      "60000/60000 [==============================] - 122s 2ms/step - loss: 0.2595 - acc: 0.9215 - val_loss: 0.0566 - val_acc: 0.9809\n",
      "Epoch 2/5\n",
      "60000/60000 [==============================] - 117s 2ms/step - loss: 0.0881 - acc: 0.9738 - val_loss: 0.0383 - val_acc: 0.9867\n",
      "Epoch 3/5\n",
      "60000/60000 [==============================] - 117s 2ms/step - loss: 0.0638 - acc: 0.9810 - val_loss: 0.0314 - val_acc: 0.9895\n",
      "Epoch 4/5\n",
      "60000/60000 [==============================] - 117s 2ms/step - loss: 0.0546 - acc: 0.9834 - val_loss: 0.0400 - val_acc: 0.9878\n",
      "Epoch 5/5\n",
      "60000/60000 [==============================] - 122s 2ms/step - loss: 0.0465 - acc: 0.9867 - val_loss: 0.0297 - val_acc: 0.9905\n"
     ]
    }
   ],
   "source": [
    "#using fixed parameters to test\n",
    "conv1_channel = 32\n",
    "conv1_ksize = 3\n",
    "conv2_channel = 64\n",
    "conv2_ksize = 3\n",
    "pool_size = 2\n",
    "drop_rate1 = 0.25\n",
    "drop_rate2 = 0.5\n",
    "FC_size = 128\n",
    "batch_size = 128\n",
    "epochs = 5\n",
    "\n",
    "score = model(conv1_channel, conv1_ksize, conv2_channel, conv2_ksize, pool_size, drop_rate1, drop_rate2,FC_size, batch_size, epochs)"
   ]
  },
  {
   "cell_type": "code",
   "execution_count": 24,
   "metadata": {},
   "outputs": [
    {
     "name": "stdout",
     "output_type": "stream",
     "text": [
      "Test Loss: 0.029683714491785213\n",
      "Test accuracy: 0.9905\n"
     ]
    }
   ],
   "source": [
    "print('Test Loss:', score[0])\n",
    "print('Test accuracy:', score[1])"
   ]
  },
  {
   "cell_type": "code",
   "execution_count": null,
   "metadata": {},
   "outputs": [],
   "source": []
  }
 ],
 "metadata": {
  "kernelspec": {
   "display_name": "Python 3",
   "language": "python",
   "name": "python3"
  },
  "language_info": {
   "codemirror_mode": {
    "name": "ipython",
    "version": 3
   },
   "file_extension": ".py",
   "mimetype": "text/x-python",
   "name": "python",
   "nbconvert_exporter": "python",
   "pygments_lexer": "ipython3",
   "version": "3.6.4"
  }
 },
 "nbformat": 4,
 "nbformat_minor": 2
}
