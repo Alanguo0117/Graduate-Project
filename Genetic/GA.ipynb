{
 "cells": [
  {
   "cell_type": "code",
   "execution_count": 2,
   "metadata": {},
   "outputs": [],
   "source": [
    "import numpy as np\n",
    "from CNN_Model_Function import model"
   ]
  },
  {
   "cell_type": "code",
   "execution_count": 3,
   "metadata": {},
   "outputs": [
    {
     "name": "stdout",
     "output_type": "stream",
     "text": [
      "[[ 48.           5.         100.           7.           6.\n",
      "  120.           0.47181075   0.53094545]\n",
      " [ 40.           7.         114.           6.           6.\n",
      "  150.           0.41908622   0.59148427]]\n",
      "(2, 8)\n"
     ]
    }
   ],
   "source": [
    "#def pop_gen(pop_size):\n",
    "    pop_size = 2\n",
    "    conv1_channel = np.random.randint(low = 2, high = 67, size = pop_size) \n",
    "    conv1_ksize = np.random.randint(low = 2, high = 11, size = pop_size)\n",
    "    conv2_channel = np.random.randint(low = 32, high = 129, size = pop_size)\n",
    "    conv2_ksize = np.random.randint(low = 2, high = 11, size = pop_size)\n",
    "    pool_size = 2*np.random.randint(low = 2, high = 5, size = pop_size)\n",
    "    drop_rate1 = np.random.uniform(low = 0.1, high = 0.9, size = pop_size)\n",
    "    drop_rate2 = np.random.uniform(low = 0.1, high = 0.9, size = pop_size)\n",
    "    FC_size = np.random.randint(low = 64, high = 257, size = pop_size)\n",
    "    #batch_size = np.random.randint(low = 1, high = 257, size = pop_size)\n",
    "    \n",
    "    pop_matrix = np.array([conv1_channel,conv1_ksize,conv2_channel,conv2_ksize,\\\n",
    "                         pool_size,FC_size,drop_rate1,drop_rate2])\n",
    "    pop_matrix = pop_matrix.T\n",
    "    print(pop_matrix)\n",
    "    print(pop_matrix.shape)\n",
    "    #return pop_matrix"
   ]
  },
  {
   "cell_type": "code",
   "execution_count": 8,
   "metadata": {},
   "outputs": [
    {
     "name": "stdout",
     "output_type": "stream",
     "text": [
      "[[ 46.           1.          78.           3.           8.\n",
      "  151.           0.43301636   0.29174639]\n",
      " [ 38.           7.         128.           8.           8.\n",
      "  137.           0.8495885    0.55845249]]\n"
     ]
    }
   ],
   "source": [
    "pop_matrix = offspring_crossover\n",
    "print(pop_matrix)"
   ]
  },
  {
   "cell_type": "code",
   "execution_count": 8,
   "metadata": {},
   "outputs": [
    {
     "name": "stdout",
     "output_type": "stream",
     "text": [
      "Train on 60000 samples, validate on 10000 samples\n",
      "Epoch 1/3\n",
      "60000/60000 [==============================] - 483s 8ms/step - loss: 0.3539 - acc: 0.8872 - val_loss: 0.0616 - val_acc: 0.9792\n",
      "Epoch 2/3\n",
      "60000/60000 [==============================] - 462s 8ms/step - loss: 0.1353 - acc: 0.9607 - val_loss: 0.0396 - val_acc: 0.9862\n",
      "Epoch 3/3\n",
      "60000/60000 [==============================] - 451s 8ms/step - loss: 0.1061 - acc: 0.9685 - val_loss: 0.0326 - val_acc: 0.9893\n",
      "Train on 60000 samples, validate on 10000 samples\n",
      "Epoch 1/3\n",
      "60000/60000 [==============================] - 296s 5ms/step - loss: 0.4986 - acc: 0.8407 - val_loss: 0.0962 - val_acc: 0.9712\n",
      "Epoch 2/3\n",
      "60000/60000 [==============================] - 295s 5ms/step - loss: 0.2015 - acc: 0.9404 - val_loss: 0.0855 - val_acc: 0.9731\n",
      "Epoch 3/3\n",
      "60000/60000 [==============================] - 302s 5ms/step - loss: 0.1666 - acc: 0.9521 - val_loss: 0.0663 - val_acc: 0.9797\n",
      "[0.95666042 0.91337072] [[0.03263958 0.9893    ]\n",
      " [0.06632928 0.9797    ]]\n"
     ]
    }
   ],
   "source": [
    "#def cal_fitness(pop_matrix, pop_size):\n",
    "    fitness = np.zeros(pop_size)\n",
    "    #print(fitness)\n",
    "    score = np.zeros((pop_size, 2))\n",
    "    #print(score)\n",
    "    test_equ = np.random.randn(8)\n",
    "    for i in range(pop_size):\n",
    "        gafit = model(pop_matrix[i,0],pop_matrix[i,1],pop_matrix[i,2],pop_matrix[i,3],pop_matrix[i,4],pop_matrix[i,5],pop_matrix[i,6],pop_matrix[i,7])\n",
    "        fitness[i] = gafit[0]\n",
    "        score[i,:] = gafit[1]\n",
    "    print(fitness,score)\n",
    "    #return fitness "
   ]
  },
  {
   "cell_type": "code",
   "execution_count": 5,
   "metadata": {},
   "outputs": [
    {
     "name": "stdout",
     "output_type": "stream",
     "text": [
      "(array([3]),)\n",
      "3\n",
      "(array([0]),)\n",
      "0\n",
      "(array([2]),)\n",
      "2\n",
      "(array([1]),)\n",
      "1\n",
      "[[4. 4. 5. 5. 2. 2. 3. 4.]\n",
      " [1. 1. 2. 2. 4. 6. 3. 5.]\n",
      " [3. 3. 4. 4. 8. 9. 6. 3.]\n",
      " [2. 2. 3. 3. 4. 6. 7. 8.]]\n"
     ]
    }
   ],
   "source": [
    "#def select_parents(pop_matrix, fitness, num_parents):\n",
    "    fitness = [5,2,3,6]\n",
    "    pop_matrix = np.array([[1,1,2,2,4,6,3,5],[2,2,3,3,4,6,7,8],[3,3,4,4,8,9,6,3],[4,4,5,5,2,2,3,4]])\n",
    "    num_parents = 4\n",
    "    parents = np.empty((num_parents, pop_matrix.shape[1]))\n",
    "    for i in range(num_parents):\n",
    "        max_idx = np.where(fitness == np.max(fitness))\n",
    "        print(max_idx)\n",
    "        max_idx = max_idx[0][0]\n",
    "        print(max_idx)\n",
    "        parents[i, :] = pop_matrix[max_idx, :]\n",
    "        fitness[max_idx] = -99999999999\n",
    "    #return parents\n",
    "    print(parents)"
   ]
  },
  {
   "cell_type": "code",
   "execution_count": 78,
   "metadata": {},
   "outputs": [
    {
     "name": "stdout",
     "output_type": "stream",
     "text": [
      "[[4. 4. 5. 5. 4. 6. 3. 5.]\n",
      " [1. 1. 2. 2. 8. 9. 6. 3.]\n",
      " [3. 3. 4. 4. 4. 6. 7. 8.]\n",
      " [2. 2. 3. 3. 2. 2. 3. 4.]]\n"
     ]
    }
   ],
   "source": [
    "#def crossover(parents, offspring_size):\n",
    "    offspring_size = (4,8)\n",
    "    offspring = np.empty(offspring_size)\n",
    "    crossover_pt = np.uint8(offspring_size[1]/2)\n",
    "    for k in range(offspring_size[0]):\n",
    "        parent1_idx = k%parents.shape[0]\n",
    "        parent2_idx = (k+1)%parents.shape[0]\n",
    "        offspring[k, 0:crossover_pt] = parents[parent1_idx, 0:crossover_pt]\n",
    "        offspring[k, crossover_pt:] = parents[parent2_idx, crossover_pt:]\n",
    "    #return offspring\n",
    "    print(offspring)   "
   ]
  },
  {
   "cell_type": "code",
   "execution_count": 79,
   "metadata": {},
   "outputs": [
    {
     "name": "stdout",
     "output_type": "stream",
     "text": [
      "[[4. 4. 5. 5. 4. 6. 3. 5.]\n",
      " [1. 1. 2. 2. 8. 9. 6. 3.]\n",
      " [2. 3. 4. 4. 4. 6. 7. 8.]\n",
      " [2. 2. 3. 3. 2. 1. 3. 4.]]\n"
     ]
    }
   ],
   "source": [
    "#def mutation(offspring_crossover):\n",
    "    offspring_crossover = offspring\n",
    "    #random_idx = np.random.randint(low = 0, high = 5, size = 1)\n",
    "    #print(random_idx)\n",
    "    for j in range(offspring_crossover.shape[0]):\n",
    "        random_idx = np.random.randint(low = 0, high = 6, size = 1)\n",
    "        random_value = np.random.randint(low = -1, high = 1 , size=1)                        \n",
    "        offspring_crossover[j, random_idx] = offspring_crossover[j, random_idx] + random_value\n",
    "    #return offspring_crossover\n",
    "    print(offspring_crossover)"
   ]
  },
  {
   "cell_type": "code",
   "execution_count": 71,
   "metadata": {},
   "outputs": [
    {
     "name": "stdout",
     "output_type": "stream",
     "text": [
      "[5]\n"
     ]
    }
   ],
   "source": [
    "random_idx = np.random.randint(low = 0, high = 6, size = 1)\n",
    "print(random_idx)"
   ]
  },
  {
   "cell_type": "code",
   "execution_count": null,
   "metadata": {},
   "outputs": [],
   "source": []
  }
 ],
 "metadata": {
  "kernelspec": {
   "display_name": "Python 3",
   "language": "python",
   "name": "python3"
  },
  "language_info": {
   "codemirror_mode": {
    "name": "ipython",
    "version": 3
   },
   "file_extension": ".py",
   "mimetype": "text/x-python",
   "name": "python",
   "nbconvert_exporter": "python",
   "pygments_lexer": "ipython3",
   "version": "3.6.4"
  }
 },
 "nbformat": 4,
 "nbformat_minor": 2
}
