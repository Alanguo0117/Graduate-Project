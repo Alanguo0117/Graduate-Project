{
 "cells": [
  {
   "cell_type": "code",
   "execution_count": 23,
   "metadata": {},
   "outputs": [],
   "source": [
    "import numpy as np\n",
    "from CNN_Model_Function import model"
   ]
  },
  {
   "cell_type": "code",
   "execution_count": 24,
   "metadata": {},
   "outputs": [],
   "source": [
    "\n",
    "pop_size = 4\n",
    "#generate random number for each hyperparameter with given distribution\n",
    "conv1_channel = np.random.randint(low = 1, high = 129, size = pop_size) \n",
    "conv1_ksize = np.random.randint(low = 1, high = 9, size = pop_size)\n",
    "conv2_channel = np.random.randint(low = 1, high = 129, size = pop_size)\n",
    "conv2_ksize = np.random.randint(low = 1, high = 9, size = pop_size)\n",
    "pool_size = 2*np.random.randint(low = 1, high = 5, size = pop_size)\n",
    "drop_rate1 = np.random.uniform(low = 0.2, high = 0.6, size = pop_size)\n",
    "drop_rate2 = np.random.uniform(low = 0.2, high = 0.6, size = pop_size)\n",
    "FC_size = np.random.randint(low = 32, high = 513, size = pop_size)\n",
    "batch_size = 2**np.random.randint(low = 4, high = 9, size = pop_size)\n",
    "#epoch = np.random.randint(low = 5, high = 21, size = pop_size)"
   ]
  },
  {
   "cell_type": "code",
   "execution_count": 25,
   "metadata": {},
   "outputs": [],
   "source": [
    "#print(conv1_channel)\n",
    "#print(conv1_ksize)\n",
    "#print(conv2_channel)\n",
    "#print(conv2_ksize)\n",
    "#print(pool_size)\n",
    "#print(drop_rate1)\n",
    "#print(FC_size)\n",
    "#print(batch_size.shape)\n",
    "#print(epoch)\n",
    "#conv1_channel.dtype"
   ]
  },
  {
   "cell_type": "code",
   "execution_count": 26,
   "metadata": {},
   "outputs": [],
   "source": [
    "pop_matrix=np.array([conv1_channel,conv1_ksize,conv2_channel,conv2_ksize,pool_size,drop_rate1,drop_rate2,FC_size,batch_size])"
   ]
  },
  {
   "cell_type": "code",
   "execution_count": 27,
   "metadata": {},
   "outputs": [],
   "source": [
    "#pop_matrix = np.vstack((conv1_channel, conv1_ksize, conv2_channel, conv2_ksize,\n",
    "                        #pool_size, drop_rate1, drop_rate2, batch_size, FC_size))"
   ]
  },
  {
   "cell_type": "code",
   "execution_count": 28,
   "metadata": {},
   "outputs": [
    {
     "name": "stdout",
     "output_type": "stream",
     "text": [
      "[[9.80000000e+01 2.00000000e+00 2.90000000e+01 9.40000000e+01]\n",
      " [3.00000000e+00 5.00000000e+00 7.00000000e+00 8.00000000e+00]\n",
      " [1.27000000e+02 1.40000000e+01 6.00000000e+00 1.14000000e+02]\n",
      " [6.00000000e+00 8.00000000e+00 5.00000000e+00 2.00000000e+00]\n",
      " [4.00000000e+00 4.00000000e+00 8.00000000e+00 6.00000000e+00]\n",
      " [5.45369538e-01 5.97632443e-01 5.60429838e-01 4.02231156e-01]\n",
      " [3.77269063e-01 4.72563415e-01 4.05761738e-01 2.11059638e-01]\n",
      " [2.25000000e+02 2.26000000e+02 3.28000000e+02 4.53000000e+02]\n",
      " [3.20000000e+01 1.60000000e+01 1.28000000e+02 3.20000000e+01]]\n",
      "(9, 4)\n"
     ]
    }
   ],
   "source": [
    "print(pop_matrix)\n",
    "print(pop_matrix.shape)"
   ]
  },
  {
   "cell_type": "code",
   "execution_count": 29,
   "metadata": {},
   "outputs": [
    {
     "data": {
      "text/plain": [
       "dtype('float64')"
      ]
     },
     "execution_count": 29,
     "metadata": {},
     "output_type": "execute_result"
    }
   ],
   "source": [
    "pop_matrix = pop_matrix.T\n",
    "\n",
    "pop_matrix.dtype\n"
   ]
  },
  {
   "cell_type": "code",
   "execution_count": 30,
   "metadata": {},
   "outputs": [
    {
     "name": "stdout",
     "output_type": "stream",
     "text": [
      "[[9.80000000e+01 3.00000000e+00 1.27000000e+02 6.00000000e+00\n",
      "  4.00000000e+00 5.45369538e-01 3.77269063e-01 2.25000000e+02\n",
      "  3.20000000e+01]\n",
      " [2.00000000e+00 5.00000000e+00 1.40000000e+01 8.00000000e+00\n",
      "  4.00000000e+00 5.97632443e-01 4.72563415e-01 2.26000000e+02\n",
      "  1.60000000e+01]\n",
      " [2.90000000e+01 7.00000000e+00 6.00000000e+00 5.00000000e+00\n",
      "  8.00000000e+00 5.60429838e-01 4.05761738e-01 3.28000000e+02\n",
      "  1.28000000e+02]\n",
      " [9.40000000e+01 8.00000000e+00 1.14000000e+02 2.00000000e+00\n",
      "  6.00000000e+00 4.02231156e-01 2.11059638e-01 4.53000000e+02\n",
      "  3.20000000e+01]]\n",
      "(4, 9)\n"
     ]
    }
   ],
   "source": [
    "print(pop_matrix)\n",
    "print(pop_matrix.shape)\n"
   ]
  },
  {
   "cell_type": "code",
   "execution_count": null,
   "metadata": {},
   "outputs": [
    {
     "name": "stdout",
     "output_type": "stream",
     "text": [
      "Train on 60000 samples, validate on 10000 samples\n",
      "Epoch 1/10\n",
      "36480/60000 [=================>............] - ETA: 7:21 - loss: 0.2040 - acc: 0.9362"
     ]
    }
   ],
   "source": [
    "#Here we test the CNN model\n",
    "\n",
    "#for i in range(0,pop_size):\n",
    "    score, model_log = model(pop_matrix[0,0],pop_matrix[0,1],pop_matrix[0,2],pop_matrix[0,3],pop_matrix[0,4],pop_matrix[0,5],pop_matrix[0,6],pop_matrix[0,7],pop_matrix[0,8])\n",
    "    print('Test Loss:', score[0])\n",
    "    print('Test accuracy:', score[1])\n",
    "\n"
   ]
  },
  {
   "cell_type": "code",
   "execution_count": null,
   "metadata": {},
   "outputs": [],
   "source": []
  },
  {
   "cell_type": "code",
   "execution_count": null,
   "metadata": {},
   "outputs": [],
   "source": []
  }
 ],
 "metadata": {
  "kernelspec": {
   "display_name": "Python 3",
   "language": "python",
   "name": "python3"
  },
  "language_info": {
   "codemirror_mode": {
    "name": "ipython",
    "version": 3
   },
   "file_extension": ".py",
   "mimetype": "text/x-python",
   "name": "python",
   "nbconvert_exporter": "python",
   "pygments_lexer": "ipython3",
   "version": "3.6.4"
  }
 },
 "nbformat": 4,
 "nbformat_minor": 2
}
