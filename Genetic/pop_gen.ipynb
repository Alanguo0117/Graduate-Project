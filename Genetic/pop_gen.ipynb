{
 "cells": [
  {
   "cell_type": "code",
   "execution_count": 2,
   "metadata": {},
   "outputs": [],
   "source": [
    "import numpy as np\n",
    "from CNN_Model_Function import model"
   ]
  },
  {
   "cell_type": "code",
   "execution_count": 3,
   "metadata": {},
   "outputs": [],
   "source": [
    "\n",
    "pop_size = 3\n",
    "#generate random number for each hyperparameter with given distribution\n",
    "conv1_channel = np.random.randint(low = 1, high = 129, size = pop_size) \n",
    "conv1_ksize = np.random.randint(low = 1, high = 9, size = pop_size)\n",
    "conv2_channel = np.random.randint(low = 1, high = 129, size = pop_size)\n",
    "conv2_ksize = np.random.randint(low = 1, high = 9, size = pop_size)\n",
    "pool_size = 2*np.random.randint(low = 1, high = 5, size = pop_size)\n",
    "drop_rate1 = np.random.uniform(low = 0.2, high = 0.6, size = pop_size)\n",
    "drop_rate2 = np.random.uniform(low = 0.2, high = 0.6, size = pop_size)\n",
    "FC_size = np.random.randint(low = 32, high = 513, size = pop_size)\n",
    "#batch_size = 2**np.random.randint(low = 4, high = 9, size = pop_size)\n",
    "#epoch = np.random.randint(low = 5, high = 21, size = pop_size)"
   ]
  },
  {
   "cell_type": "code",
   "execution_count": 4,
   "metadata": {},
   "outputs": [],
   "source": [
    "#print(conv1_channel)\n",
    "#print(conv1_ksize)\n",
    "#print(conv2_channel)\n",
    "#print(conv2_ksize)\n",
    "#print(pool_size)\n",
    "#print(drop_rate1)\n",
    "#print(FC_size)\n",
    "#print(batch_size.shape)\n",
    "#print(epoch)\n",
    "#conv1_channel.dtype"
   ]
  },
  {
   "cell_type": "code",
   "execution_count": 5,
   "metadata": {},
   "outputs": [],
   "source": [
    "pop_matrix=np.array([conv1_channel,conv1_ksize,conv2_channel,conv2_ksize,pool_size,drop_rate1,drop_rate2,FC_size])"
   ]
  },
  {
   "cell_type": "code",
   "execution_count": 6,
   "metadata": {},
   "outputs": [],
   "source": [
    "#pop_matrix = np.vstack((conv1_channel, conv1_ksize, conv2_channel, conv2_ksize,\n",
    "                        #pool_size, drop_rate1, drop_rate2, batch_size, FC_size))"
   ]
  },
  {
   "cell_type": "code",
   "execution_count": 7,
   "metadata": {},
   "outputs": [
    {
     "name": "stdout",
     "output_type": "stream",
     "text": [
      "[[8.30000000e+01 1.28000000e+02 9.90000000e+01]\n",
      " [5.00000000e+00 6.00000000e+00 5.00000000e+00]\n",
      " [7.80000000e+01 1.28000000e+02 2.50000000e+01]\n",
      " [7.00000000e+00 6.00000000e+00 7.00000000e+00]\n",
      " [8.00000000e+00 6.00000000e+00 8.00000000e+00]\n",
      " [5.37858295e-01 2.33922090e-01 3.53512185e-01]\n",
      " [2.06369435e-01 3.48254144e-01 3.65607223e-01]\n",
      " [3.99000000e+02 4.40000000e+01 1.89000000e+02]]\n",
      "(8, 3)\n"
     ]
    }
   ],
   "source": [
    "print(pop_matrix)\n",
    "print(pop_matrix.shape)"
   ]
  },
  {
   "cell_type": "code",
   "execution_count": 8,
   "metadata": {},
   "outputs": [
    {
     "data": {
      "text/plain": [
       "dtype('float64')"
      ]
     },
     "execution_count": 8,
     "metadata": {},
     "output_type": "execute_result"
    }
   ],
   "source": [
    "pop_matrix = pop_matrix.T\n",
    "\n",
    "pop_matrix.dtype\n"
   ]
  },
  {
   "cell_type": "code",
   "execution_count": 9,
   "metadata": {},
   "outputs": [
    {
     "name": "stdout",
     "output_type": "stream",
     "text": [
      "[[8.30000000e+01 5.00000000e+00 7.80000000e+01 7.00000000e+00\n",
      "  8.00000000e+00 5.37858295e-01 2.06369435e-01 3.99000000e+02]\n",
      " [1.28000000e+02 6.00000000e+00 1.28000000e+02 6.00000000e+00\n",
      "  6.00000000e+00 2.33922090e-01 3.48254144e-01 4.40000000e+01]\n",
      " [9.90000000e+01 5.00000000e+00 2.50000000e+01 7.00000000e+00\n",
      "  8.00000000e+00 3.53512185e-01 3.65607223e-01 1.89000000e+02]]\n",
      "(3, 8)\n"
     ]
    }
   ],
   "source": [
    "print(pop_matrix)\n",
    "print(pop_matrix.shape)\n"
   ]
  },
  {
   "cell_type": "code",
   "execution_count": 10,
   "metadata": {},
   "outputs": [
    {
     "ename": "IndexError",
     "evalue": "index 8 is out of bounds for axis 1 with size 8",
     "output_type": "error",
     "traceback": [
      "\u001b[0;31m---------------------------------------------------------------------------\u001b[0m",
      "\u001b[0;31mIndexError\u001b[0m                                Traceback (most recent call last)",
      "\u001b[0;32mcell_name\u001b[0m in \u001b[0;36masync-def-wrapper\u001b[0;34m()\u001b[0m\n",
      "\u001b[0;31mIndexError\u001b[0m: index 8 is out of bounds for axis 1 with size 8"
     ]
    }
   ],
   "source": [
    "#Here we test the CNN model\n",
    "\n",
    "#for i in range(0,pop_size):\n",
    "    gafit = model(pop_matrix[0,0],pop_matrix[0,1],pop_matrix[0,2],pop_matrix[0,3],pop_matrix[0,4],pop_matrix[0,5],pop_matrix[0,6],pop_matrix[0,7])\n",
    "    print(gafit)\n",
    "    \n",
    "\n"
   ]
  },
  {
   "cell_type": "code",
   "execution_count": 11,
   "metadata": {},
   "outputs": [
    {
     "name": "stdout",
     "output_type": "stream",
     "text": [
      "([0.04792721611284069, 0.9846], <keras.callbacks.History object at 0x127155b70>, 0.9366727838871594)\n"
     ]
    }
   ],
   "source": [
    "print(gafit)"
   ]
  },
  {
   "cell_type": "code",
   "execution_count": null,
   "metadata": {},
   "outputs": [],
   "source": []
  }
 ],
 "metadata": {
  "kernelspec": {
   "display_name": "Python 3",
   "language": "python",
   "name": "python3"
  },
  "language_info": {
   "codemirror_mode": {
    "name": "ipython",
    "version": 3
   },
   "file_extension": ".py",
   "mimetype": "text/x-python",
   "name": "python",
   "nbconvert_exporter": "python",
   "pygments_lexer": "ipython3",
   "version": "3.6.4"
  }
 },
 "nbformat": 4,
 "nbformat_minor": 2
}
