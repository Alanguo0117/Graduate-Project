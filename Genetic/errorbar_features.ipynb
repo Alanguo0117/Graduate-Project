{
 "cells": [
  {
   "cell_type": "code",
   "execution_count": 1,
   "metadata": {},
   "outputs": [],
   "source": [
    "%matplotlib inline"
   ]
  },
  {
   "cell_type": "markdown",
   "metadata": {},
   "source": [
    "\n",
    "# Different ways of specifying error bars\n",
    "\n",
    "\n",
    "Errors can be specified as a constant value (as shown in\n",
    "`errorbar_demo.py`). However, this example demonstrates\n",
    "how they vary by specifying arrays of error values.\n",
    "\n",
    "If the raw ``x`` and ``y`` data have length N, there are two options:\n",
    "\n",
    "Array of shape (N,):\n",
    "    Error varies for each point, but the error values are\n",
    "    symmetric (i.e. the lower and upper values are equal).\n",
    "\n",
    "Array of shape (2, N):\n",
    "    Error varies for each point, and the lower and upper limits\n",
    "    (in that order) are different (asymmetric case)\n",
    "\n",
    "In addition, this example demonstrates how to use log\n",
    "scale with error bars.\n",
    "\n"
   ]
  },
  {
   "cell_type": "code",
   "execution_count": 5,
   "metadata": {},
   "outputs": [
    {
     "name": "stdout",
     "output_type": "stream",
     "text": [
      "[array([0.04, 0.12, 0.2 ]), array([0.1, 0.3, 0.5])]\n"
     ]
    },
    {
     "data": {
      "image/png": "[encoded data removed]",
      "text/plain": [
       "<Figure size 432x288 with 2 Axes>"
      ]
     },
     "metadata": {
      "needs_background": "light"
     },
     "output_type": "display_data"
    }
   ],
   "source": [
    "import numpy as np\n",
    "import matplotlib.pyplot as plt\n",
    "\n",
    "# example data\n",
    "x = np.array([0, 1, 2])\n",
    "y = np.array([0.98495, 0.98865, 0.9887])\n",
    "\n",
    "\n",
    "# example error bar values that vary with x-position\n",
    "error = 0.1 + 0.2 * x\n",
    "\n",
    "fig, (ax0, ax1) = plt.subplots(nrows=2, sharex=True)\n",
    "ax0.errorbar(x, y, yerr=error, fmt='-o')\n",
    "ax0.set_title('variable, symmetric error')\n",
    "\n",
    "# error bar values w/ different -/+ errors that\n",
    "# also vary with the x-position\n",
    "lower_error = 0.4 * error\n",
    "upper_error = error\n",
    "asymmetric_error = [lower_error, upper_error]\n",
    "print(asymmetric_error)\n",
    "ax1.errorbar(x, y, xerr=asymmetric_error, fmt='o')\n",
    "ax1.set_title('variable, asymmetric error')\n",
    "ax1.set_yscale('log')\n",
    "plt.show()"
   ]
  },
  {
   "cell_type": "code",
   "execution_count": null,
   "metadata": {},
   "outputs": [],
   "source": []
  }
 ],
 "metadata": {
  "kernelspec": {
   "display_name": "Python 3",
   "language": "python",
   "name": "python3"
  },
  "language_info": {
   "codemirror_mode": {
    "name": "ipython",
    "version": 3
   },
   "file_extension": ".py",
   "mimetype": "text/x-python",
   "name": "python",
   "nbconvert_exporter": "python",
   "pygments_lexer": "ipython3",
   "version": "3.6.4"
  }
 },
 "nbformat": 4,
 "nbformat_minor": 1
}
