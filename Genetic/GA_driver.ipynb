{
 "cells": [
  {
   "cell_type": "code",
   "execution_count": 2,
   "metadata": {},
   "outputs": [],
   "source": [
    "import numpy as np\n",
    "import GA"
   ]
  },
  {
   "cell_type": "code",
   "execution_count": 3,
   "metadata": {},
   "outputs": [],
   "source": [
    "#The paratmeter for GA driver\n",
    "pop_size = 8\n",
    "num_parents = 4\n",
    "num_gen = 5"
   ]
  },
  {
   "cell_type": "code",
   "execution_count": null,
   "metadata": {},
   "outputs": [
    {
     "name": "stdout",
     "output_type": "stream",
     "text": [
      "Generation : 0\n",
      "Train on 60000 samples, validate on 10000 samples\n",
      "Epoch 1/3\n",
      "20736/60000 [=========>....................] - ETA: 4:15 - loss: 1.2803 - acc: 0.5459"
     ]
    }
   ],
   "source": [
    "#generate initial population\n",
    "pop_matrix = GA.pop_gen(pop_size)\n",
    "#iteration for GA\n",
    "for i in range(num_gen):\n",
    "    print(\"Generation :\", i)\n",
    "    #calculate fitness\n",
    "    fitness, score = GA.cal_fitness(pop_matrix, pop_size)\n",
    "    #output results to txt file\n",
    "    max_idx = np.where(fitness == np.max(fitness))\n",
    "    best_individual = pop_matrix[max_idx[0][0],:]\n",
    "    best_score = score[max_idx[0][0],:]\n",
    "    print(best_score)\n",
    "    f = open('best_individual.txt','ab')\n",
    "    np.savetxt(f,best_individual)\n",
    "    f.close()\n",
    "    f = open('pop_scores.txt','ab')\n",
    "    np.savetxt(f,score)\n",
    "    f.close()\n",
    "    #select parents\n",
    "    parents = GA.select_parents(pop_matrix, fitness, num_parents)\n",
    "    #crossover \n",
    "    offspring_crossover = GA.crossover(parents, (pop_size - parents.shape[0],pop_matrix.shape[1]))\n",
    "    #mutation\n",
    "    offspring_mutation = GA.mutation(offspring_crossover)\n",
    "    #getting new population\n",
    "    pop_matrix[0:parents.shape[0], :] = parents\n",
    "    pop_matrix[parents.shape[0]:, :]=offspring_mutation"
   ]
  },
  {
   "cell_type": "code",
   "execution_count": null,
   "metadata": {},
   "outputs": [],
   "source": []
  }
 ],
 "metadata": {
  "kernelspec": {
   "display_name": "Python 3",
   "language": "python",
   "name": "python3"
  },
  "language_info": {
   "codemirror_mode": {
    "name": "ipython",
    "version": 3
   },
   "file_extension": ".py",
   "mimetype": "text/x-python",
   "name": "python",
   "nbconvert_exporter": "python",
   "pygments_lexer": "ipython3",
   "version": "3.6.4"
  }
 },
 "nbformat": 4,
 "nbformat_minor": 2
}
